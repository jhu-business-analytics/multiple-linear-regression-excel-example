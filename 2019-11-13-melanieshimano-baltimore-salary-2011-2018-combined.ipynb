{
 "cells": [
  {
   "cell_type": "markdown",
   "metadata": {},
   "source": [
    "# Aggregating and Cleaning Baltimore City Government Salaries for Fiscal Years 2011-2019"
   ]
  },
  {
   "cell_type": "markdown",
   "metadata": {},
   "source": [
    "Baltimore City government publishes [open data](https://data.baltimorecity.gov/browse?category=City+Government) about their full-time or civil service employee's salary, hire data, and earned income for fiscal years 2011-2019 (Baltimore City government's fiscal year runs from July 1-June 30, where the ending year of each cycle denotes the \"fiscal year\"). While this provides transpareny on these type of employees and some city government salary spending--this doesn't include salaries for contract employees--it is challenging to perform long-term trend analysis on this data because different years' exported data have different column headers, different labels for department names, and different labels for employee names. This notebook aims to clean and organize this data to make it easier to draw long-term comparisons that relate to salary earnings, salary offers, paid position types, and Baltimore City government tenure."
   ]
  },
  {
   "cell_type": "markdown",
   "metadata": {},
   "source": [
    "## import libraries"
   ]
  },
  {
   "cell_type": "code",
   "execution_count": 44,
   "metadata": {},
   "outputs": [],
   "source": [
    "# for data analysis\n",
    "import pandas as pd \n",
    "import numpy as np\n",
    "\n",
    "# get today's date\n",
    "from datetime import date, datetime\n",
    "\n",
    "# to create visualizations \n",
    "import plotly.express as px\n",
    "\n",
    "# access local file\n",
    "import glob\n",
    "import os\n"
   ]
  },
  {
   "cell_type": "markdown",
   "metadata": {},
   "source": [
    "## about the data"
   ]
  },
  {
   "cell_type": "markdown",
   "metadata": {},
   "source": [
    "Each Baltimore City Employee Salary csv export on Baltimore Open Data contains the following column headers in the same order: \n",
    "\n",
    " - __name__: Baltimore City government employee's name (last, first)\n",
    " - __jobtitle__: employee's job title classification \n",
    " - __deptid__: employee's ID within their department\n",
    " - __descr__: employee's current department/agency where they are employed\n",
    " - __hire_dt__: date employee was initially hired by Baltimore City government (not necessarily the date they were hired for their current position or their current agency)\n",
    " - __annual_rt__: employee's annual salary as stated in their employment contract\n",
    " - __gross__: employee's gross earned income for the fiscal year; this may be more than their annual salary if they earn overtime, etc., or it may be less than their annual income if they don't work their full 40 hour/week"
   ]
  },
  {
   "cell_type": "markdown",
   "metadata": {},
   "source": [
    "Although this is clear and relatively consistent across all fiscal years, each fiscal year data upload has different formatting for each fiscal year (e.g. name vs Name vs NAME), which make it difficult to easily concatenate data with pandas. "
   ]
  },
  {
   "cell_type": "markdown",
   "metadata": {},
   "source": [
    "## import data"
   ]
  },
  {
   "cell_type": "markdown",
   "metadata": {},
   "source": [
    "In these functions and loops, we reformat the salary data in all of the 2011-2019 fiscal years so that:\n",
    " - All of the data has consistent columns (we also rename \"name\" to \"employee_name\" and \"descr\" to \"department_name\"\n",
    " - There is an added \"fiscal_year\" column to differentiate the fiscal year for those earnings\n",
    " - The annual and gross salary columns are formatted as floats (or, essentially, workable numbers to perform caluculations)\n",
    " - The hire date column is reformatted to a datetime object so that we can perform datetime functions which allows us to\n",
    " - Create an additional column (\"years_in_gov\") that calculates time the employee has worked for city government\n",
    " - We reformat the department names (\"descr\" / \"dept_name\") since some fiscal years define department names as only the name and some department names include a sub-department code as a number in parentheses. This makes it difficult to look at long-term department specific trends"
   ]
  },
  {
   "cell_type": "code",
   "execution_count": 45,
   "metadata": {},
   "outputs": [],
   "source": [
    "# functions to load in and reformat the salary data so that we can work with all of the data over all of the years available\n",
    "# read in all fiscal year csv file and add column for fiscal year to differentiate\n",
    "\n",
    "def fiscal_year(csv):\n",
    "    \n",
    "    # define the path for the file we want to extract the fiscal year from\n",
    "    filename = os.path.basename(csv)\n",
    "    \n",
    "    # replace \".\" in path name with \"_\"\n",
    "    # split on \"_\" and keep the 5th value as the date\n",
    "    fy = filename.replace(\".\", \"_\").split(\"_\")[4]\n",
    "    \n",
    "    # make sure fiscal year is a number\n",
    "    # keep last two digits of the fiscal year term\n",
    "    # add 20 to make it \"2011\", etc.\n",
    "    fy = \"20\" + fy[-2:]\n",
    "    \n",
    "    return fy"
   ]
  },
  {
   "cell_type": "code",
   "execution_count": 50,
   "metadata": {},
   "outputs": [],
   "source": [
    "# for loop to read in all files, reformat headers, add in fiscal year column, and concatenate with other csvs\n",
    "\n",
    "# initiate data empty data frame to append edited dataframes to later\n",
    "df_bmore_salary = pd.DataFrame([])\n",
    "\n",
    "# for each file in the file in this path name (all downloaded files for Baltimore City gov salaries)\n",
    "for counter, file in enumerate(glob.glob(\"bmore_salaries_2011_2018/*.csv\")):\n",
    "    \n",
    "    # load the file from bmore_salaries_folder\n",
    "    df_salary = pd.read_csv(file)\n",
    "    \n",
    "    # rename the column headers so that all years are consistent\n",
    "    \n",
    "    # new column names\n",
    "    salary_col = ['employee_name', 'jobtitle', 'deptid', 'dept_name', 'hire_dt', 'annual_rt', 'gross']\n",
    "    \n",
    "    # replace original column headers with new salary_col names\n",
    "    df_salary.columns = salary_col\n",
    "        \n",
    "    #Call function to extract the date from the filename\n",
    "    fy_date = fiscal_year(file)\n",
    "    \n",
    "    #Add the date string to the dataframe before appending\n",
    "    # make this into a string for datetime transformation later\n",
    "    df_salary['fiscal_year'] = str(fy_date)\n",
    "        \n",
    "    #Stitch it all together\n",
    "    df_bmore_salary = df_bmore_salary.append(df_salary, sort = False)\n",
    "    \n"
   ]
  },
  {
   "cell_type": "code",
   "execution_count": 55,
   "metadata": {},
   "outputs": [],
   "source": [
    "# function to transform annual and gross salaries into floats\n",
    "\n",
    "def salary_number_formatting(df):\n",
    "    # convert annual_rt column to float\n",
    "    df[\"annual_rt\"] = df[\"annual_rt\"].astype(float)\n",
    "    # convert gross to float\n",
    "    df[\"gross\"] = df[\"gross\"].astype(float)\n",
    "    \n",
    "    # convert hire date to datetime\n",
    "    df[\"hire_dt\"] = pd.to_datetime(df[\"hire_dt\"])\n",
    "    # calculate tenure in city government and add new column for this value\n",
    "    # subtract hire_dt from end of fiscal year, when the data was drawn\n",
    "    df[\"years_in_gov\"] = ((pd.to_datetime(\"06-30-\" + df[\"fiscal_year\"]) - df[\"hire_dt\"])/np.timedelta64(1,\"Y\"))"
   ]
  },
  {
   "cell_type": "code",
   "execution_count": 52,
   "metadata": {},
   "outputs": [],
   "source": [
    "# use salary_number_formatting function for dataframe\n",
    "salary_number_formatting(df_bmore_salary)"
   ]
  },
  {
   "cell_type": "code",
   "execution_count": 53,
   "metadata": {},
   "outputs": [],
   "source": [
    "# edit the department name to remove the department name code in parentheses\n",
    "\n",
    "df_bmore_salary[\"dept_name\"] = df_bmore_salary[\"dept_name\"].str.split(\"(\", n = 1, expand = True)"
   ]
  },
  {
   "cell_type": "code",
   "execution_count": 56,
   "metadata": {},
   "outputs": [
    {
     "data": {
      "text/html": [
       "<div>\n",
       "<style scoped>\n",
       "    .dataframe tbody tr th:only-of-type {\n",
       "        vertical-align: middle;\n",
       "    }\n",
       "\n",
       "    .dataframe tbody tr th {\n",
       "        vertical-align: top;\n",
       "    }\n",
       "\n",
       "    .dataframe thead th {\n",
       "        text-align: right;\n",
       "    }\n",
       "</style>\n",
       "<table border=\"1\" class=\"dataframe\">\n",
       "  <thead>\n",
       "    <tr style=\"text-align: right;\">\n",
       "      <th></th>\n",
       "      <th>employee_name</th>\n",
       "      <th>jobtitle</th>\n",
       "      <th>deptid</th>\n",
       "      <th>dept_name</th>\n",
       "      <th>hire_dt</th>\n",
       "      <th>annual_rt</th>\n",
       "      <th>gross</th>\n",
       "      <th>fiscal_year</th>\n",
       "      <th>years_in_gov</th>\n",
       "    </tr>\n",
       "  </thead>\n",
       "  <tbody>\n",
       "    <tr>\n",
       "      <th>13478</th>\n",
       "      <td>BPD 37</td>\n",
       "      <td>BPD 37</td>\n",
       "      <td>A99347</td>\n",
       "      <td>Police Department</td>\n",
       "      <td>2000-04-20</td>\n",
       "      <td>78289.0</td>\n",
       "      <td>121339.06</td>\n",
       "      <td>2017</td>\n",
       "      <td>17.194056</td>\n",
       "    </tr>\n",
       "    <tr>\n",
       "      <th>13479</th>\n",
       "      <td>BPD 38</td>\n",
       "      <td>BPD 38</td>\n",
       "      <td>A99422</td>\n",
       "      <td>Police Department</td>\n",
       "      <td>2006-03-30</td>\n",
       "      <td>73834.0</td>\n",
       "      <td>91622.47</td>\n",
       "      <td>2017</td>\n",
       "      <td>11.252798</td>\n",
       "    </tr>\n",
       "    <tr>\n",
       "      <th>13480</th>\n",
       "      <td>BPD 39</td>\n",
       "      <td>BPD 39</td>\n",
       "      <td>A99347</td>\n",
       "      <td>Police Department</td>\n",
       "      <td>1996-08-05</td>\n",
       "      <td>81086.0</td>\n",
       "      <td>102905.09</td>\n",
       "      <td>2017</td>\n",
       "      <td>20.901182</td>\n",
       "    </tr>\n",
       "    <tr>\n",
       "      <th>13481</th>\n",
       "      <td>BPD 40</td>\n",
       "      <td>BPD 40</td>\n",
       "      <td>A99070</td>\n",
       "      <td>Police Department</td>\n",
       "      <td>2008-11-03</td>\n",
       "      <td>70051.0</td>\n",
       "      <td>75495.57</td>\n",
       "      <td>2017</td>\n",
       "      <td>8.654524</td>\n",
       "    </tr>\n",
       "    <tr>\n",
       "      <th>13482</th>\n",
       "      <td>BPD 41</td>\n",
       "      <td>BPD 41</td>\n",
       "      <td>A99347</td>\n",
       "      <td>Police Department</td>\n",
       "      <td>1994-08-23</td>\n",
       "      <td>82484.0</td>\n",
       "      <td>120989.23</td>\n",
       "      <td>2017</td>\n",
       "      <td>22.853310</td>\n",
       "    </tr>\n",
       "  </tbody>\n",
       "</table>\n",
       "</div>"
      ],
      "text/plain": [
       "      employee_name jobtitle  deptid           dept_name    hire_dt  \\\n",
       "13478        BPD 37   BPD 37  A99347  Police Department  2000-04-20   \n",
       "13479        BPD 38   BPD 38  A99422  Police Department  2006-03-30   \n",
       "13480        BPD 39   BPD 39  A99347  Police Department  1996-08-05   \n",
       "13481        BPD 40   BPD 40  A99070  Police Department  2008-11-03   \n",
       "13482        BPD 41   BPD 41  A99347  Police Department  1994-08-23   \n",
       "\n",
       "       annual_rt      gross fiscal_year  years_in_gov  \n",
       "13478    78289.0  121339.06        2017     17.194056  \n",
       "13479    73834.0   91622.47        2017     11.252798  \n",
       "13480    81086.0  102905.09        2017     20.901182  \n",
       "13481    70051.0   75495.57        2017      8.654524  \n",
       "13482    82484.0  120989.23        2017     22.853310  "
      ]
     },
     "execution_count": 56,
     "metadata": {},
     "output_type": "execute_result"
    }
   ],
   "source": [
    "df_bmore_salary.tail()"
   ]
  },
  {
   "cell_type": "code",
   "execution_count": 57,
   "metadata": {},
   "outputs": [
    {
     "data": {
      "text/plain": [
       "141"
      ]
     },
     "execution_count": 57,
     "metadata": {},
     "output_type": "execute_result"
    }
   ],
   "source": [
    "# how many unique department names\n",
    "df_bmore_salary[\"dept_name\"].nunique()"
   ]
  },
  {
   "cell_type": "code",
   "execution_count": 58,
   "metadata": {},
   "outputs": [
    {
     "data": {
      "text/plain": [
       "2418"
      ]
     },
     "execution_count": 58,
     "metadata": {},
     "output_type": "execute_result"
    }
   ],
   "source": [
    "# how many unique job titles\n",
    "df_bmore_salary[\"jobtitle\"].nunique()"
   ]
  },
  {
   "cell_type": "code",
   "execution_count": 59,
   "metadata": {},
   "outputs": [
    {
     "data": {
      "text/plain": [
       "9"
      ]
     },
     "execution_count": 59,
     "metadata": {},
     "output_type": "execute_result"
    }
   ],
   "source": [
    "# how many fiscal years does this cover?\n",
    "df_bmore_salary[\"fiscal_year\"].nunique()"
   ]
  },
  {
   "cell_type": "code",
   "execution_count": 60,
   "metadata": {},
   "outputs": [
    {
     "name": "stdout",
     "output_type": "stream",
     "text": [
      "<class 'pandas.core.frame.DataFrame'>\n",
      "Int64Index: 137433 entries, 0 to 13482\n",
      "Data columns (total 9 columns):\n",
      "employee_name    137433 non-null object\n",
      "jobtitle         137433 non-null object\n",
      "deptid           137433 non-null object\n",
      "dept_name        137433 non-null object\n",
      "hire_dt          137123 non-null datetime64[ns]\n",
      "annual_rt        137433 non-null float64\n",
      "gross            128954 non-null float64\n",
      "fiscal_year      137433 non-null object\n",
      "years_in_gov     137123 non-null float64\n",
      "dtypes: datetime64[ns](1), float64(3), object(5)\n",
      "memory usage: 10.5+ MB\n"
     ]
    }
   ],
   "source": [
    "# high-level information about the new dataframe\n",
    "df_bmore_salary.info()"
   ]
  },
  {
   "cell_type": "markdown",
   "metadata": {},
   "source": [
    "## export data in csv to use in additional analysis"
   ]
  },
  {
   "cell_type": "code",
   "execution_count": 61,
   "metadata": {},
   "outputs": [],
   "source": [
    "# export as a csv, but don't include index as a column\n",
    "df_bmore_salary.to_csv(\"total_bmore_city_salaries_2011_2019.csv\", index = False)"
   ]
  },
  {
   "cell_type": "code",
   "execution_count": null,
   "metadata": {},
   "outputs": [],
   "source": [
    "# export as an excel file, but don't include index as a column\n",
    "df_bmore_salary.to_excel(\"total_bmore_city_salaries_2011_2019.xlsx\", index = False)"
   ]
  },
  {
   "cell_type": "code",
   "execution_count": null,
   "metadata": {},
   "outputs": [],
   "source": []
  },
  {
   "cell_type": "code",
   "execution_count": null,
   "metadata": {},
   "outputs": [],
   "source": []
  }
 ],
 "metadata": {
  "kernelspec": {
   "display_name": "Python 3",
   "language": "python",
   "name": "python3"
  },
  "language_info": {
   "codemirror_mode": {
    "name": "ipython",
    "version": 3
   },
   "file_extension": ".py",
   "mimetype": "text/x-python",
   "name": "python",
   "nbconvert_exporter": "python",
   "pygments_lexer": "ipython3",
   "version": "3.6.6"
  }
 },
 "nbformat": 4,
 "nbformat_minor": 2
}
